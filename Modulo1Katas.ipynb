{
  "cells": [
    {
      "cell_type": "markdown",
      "metadata": {},
      "source": [
        "Oficial superior> \"¿Cadete?\"\n",
        "\n",
        "Cadete tlapanco \"¿Sí, señora?\"\n",
        "\n",
        "Oficial superior> \"¿Puedes construir un programa que me muestre la fecha? La computadora del barco no venía con mucho en términos de programas de utilidad, por lo que necesitamos crear los que necesitamos. ¿Puedo confiar en ti con esto?\"\n",
        "\n",
        "Cadete tlapanco > \"Considéralo hecho\".\n",
        "\n",
        "Oficial superior> \"Excelente\".\n",
        "\n",
        "## Tu primer programa\n",
        "\n",
        "Para crear este programa, deberás utilizar los conceptos que aprendiste en el último módulo. Usarás Jupyter Notebook en este ejercicio, que es una combinación de texto y código con la que puede interactuar. Finaliza el código siguiente para que el resultado muestre la fecha de hoy."
      ]
    },
    {
      "cell_type": "code",
      "execution_count": 3,
      "metadata": {},
      "outputs": [
        {
          "name": "stdout",
          "output_type": "stream",
          "text": [
            "Today's date is: 2022-02-14\n"
          ]
        }
      ],
      "source": [
        "from datetime import date\n",
        "today_date = str(date.today())\n",
        "\n",
        "print(\"Today's date is: \" + today_date)"
      ]
    },
    {
      "cell_type": "markdown",
      "metadata": {},
      "source": [
        "## Construir un convertidor de unidades\n",
        "\n",
        "El oficial superior> \"Necesito una cosa más: un programa de conversión entre parsecs y años luz. Tener un programa de este tipo podría ser realmente útil en el puente para trazar nuestro curso\".\n",
        "\n",
        "Cadete tlapanco> \"¡Lo haré!\"\n"
      ]
    },
    {
      "cell_type": "code",
      "execution_count": 19,
      "metadata": {},
      "outputs": [
        {
          "name": "stdout",
          "output_type": "stream",
          "text": [
            "17 parsec, is 55.44652 lightyears\n",
            "13 lightyears, is 3.9858227351328814 parsec\n"
          ]
        }
      ],
      "source": [
        "#funcion convertir años luz a parsecs\n",
        "def convert_ly_to_par(lightyears):\n",
        "    result = lightyears / 3.26156\n",
        "    return result\n",
        "\n",
        "#funcion convertir parsecs a años luz\n",
        "def convert_par_to_ly(parsecs):\n",
        "    result = parsecs * 3.26156\n",
        "    return result\n",
        "\n",
        "parsec = 17\n",
        "\n",
        "lightyears = 13\n",
        "\n",
        "print(str(parsec) + \" parsec, is \" + str(convert_par_to_ly(parsec)) + \" lightyears\")\n",
        "print(str(lightyears) + \" lightyears, is \" + str(convert_ly_to_par(lightyears)) + \" parsec\")"
      ]
    },
    {
      "cell_type": "markdown",
      "metadata": {},
      "source": [
        "> [!TIP]\n",
        "> 1 parsec es 3.26156 años luz. Utiliza el operador de multiplicación."
      ]
    }
  ],
  "metadata": {
    "interpreter": {
      "hash": "3410afedb74081d81603511028deadddc25ba0f01c14e0cb891e2c2473f81884"
    },
    "kernel_info": {
      "name": "conda-env-py37_default-py"
    },
    "kernelspec": {
      "display_name": "py37_default",
      "language": "python",
      "name": "python3"
    },
    "language_info": {
      "codemirror_mode": {
        "name": "ipython",
        "version": 3
      },
      "file_extension": ".py",
      "mimetype": "text/x-python",
      "name": "python",
      "nbconvert_exporter": "python",
      "pygments_lexer": "ipython3",
      "version": "3.8.10"
    },
    "nteract": {
      "version": "nteract-front-end@1.0.0"
    },
    "orig_nbformat": 4
  },
  "nbformat": 4,
  "nbformat_minor": 2
}
